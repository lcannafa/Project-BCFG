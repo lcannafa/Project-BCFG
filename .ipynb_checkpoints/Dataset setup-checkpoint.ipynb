{
 "cells": [
  {
   "cell_type": "markdown",
   "metadata": {},
   "source": [
    "# Interpolation Using images in video\n",
    "\n",
    "In this notebook we will attempt to analyze an image and recreate it by using newton interpolation and Cubic Splines"
   ]
  },
  {
   "cell_type": "markdown",
   "metadata": {},
   "source": [
    "# Funciones Basicas"
   ]
  },
  {
   "cell_type": "code",
   "execution_count": 8,
   "metadata": {},
   "outputs": [],
   "source": [
    "import math as m\n",
    "import numpy as np\n",
    "from sympy import *\n",
    "\n",
    "def f(f):\n",
    "    x = Symbol(\"x\")\n",
    "    e = m.e\n",
    "    pi = m.pi\n",
    "    f = eval(f)\n",
    "    return f\n",
    "def g(g):\n",
    "    x = Symbol(\"x\")\n",
    "    e = m.e\n",
    "    pi = m.pi\n",
    "    g = eval(g)\n",
    "    return g\n",
    "def f1(f):\n",
    "    x = Symbol(\"x\")\n",
    "    e = m.e\n",
    "    pi = m.pi\n",
    "    f1 = diff(f)\n",
    "    return f1\n",
    "def f2(f1):\n",
    "    x = Symbol(\"x\")\n",
    "    e = m.e\n",
    "    pi = m.pi\n",
    "    f2 = diff(f1)\n",
    "    return f2\n",
    "def evalfunct(f,y):\n",
    "    x = Symbol(\"x\")\n",
    "    e = m.e\n",
    "    pi = m.pi\n",
    "    evalf = f.subs(x,y)\n",
    "    return evalf\n",
    "def regresiva(a,b):\n",
    "    n = len(b)\n",
    "    x = [0 for i in range(n)]\n",
    "    x[n-1] = b[n-1,0]/a[n-1,n-1]\n",
    "    for i in reversed(range(0,n-1)):\n",
    "        suma = 0\n",
    "        for j in range((i+1),n):\n",
    "            suma = suma + a[i,j]*x[j]\n",
    "        x[i] = (b[i,0] - suma)/a[i,i]\n",
    "    return x\n",
    "def progresiva(a,b):\n",
    "    n = len(b)\n",
    "    x = [0 for i in range(n)]\n",
    "    x[0] = b[0,0]/a[0,0]\n",
    "    for i in range(1,n):\n",
    "        suma = 0\n",
    "        for j in range(0,(i-1)):\n",
    "            suma = suma + a[i,j]*x[j]\n",
    "        x[i] = (b[i,0] - suma)/a[i,i]\n",
    "    return x\n",
    "def intercambioFila(a,fi1,fi2):\n",
    "    f = np.copy(a)\n",
    "    f[fi1,:] = a[fi2,:]\n",
    "    f[fi2,:] = a[fi1,:]\n",
    "    return f\n",
    "def intercambioColumna(a,c1,c2):\n",
    "    f = np.copy(a)\n",
    "    f[:,[c1]] = a[:,[c2]]\n",
    "    f[:,[c2]] = a[:,[c1]]\n",
    "    return f\n",
    "\n",
    "def pivoteoParcial(a,b,k):\n",
    "    s = np.hstack(((a,b)))\n",
    "    n = len(s) - 1\n",
    "    mayor = abs(k)\n",
    "    filaMayor = k\n",
    "    for t in range(k,n):\n",
    "        if abs(s[t,k]) > mayor:\n",
    "            mayor = abs(s[t,k])\n",
    "            filaMayor = t\n",
    "    if mayor == 0:\n",
    "        print(\"The system doesnt have a unique solution\")\n",
    "    elif filaMayor != k :\n",
    "        s = intercambioFila(s,filaMayor,k)\n",
    "    s = s[:,:-1]\n",
    "    return s\n",
    "def pivoteoTotal(a,b,k):\n",
    "    s = np.hstack(((a,b)))\n",
    "    n = len(a) - 1\n",
    "    marcas = np.matrix('1 2 3 4')\n",
    "    mayor = 0\n",
    "    filaMayor = k\n",
    "    columnaMayor = k\n",
    "    for r in range (k,n):\n",
    "        for t in range (k,n):\n",
    "            if(abs(s[r,t]) > mayor):\n",
    "                mayor = abs(s[r,t])\n",
    "                filaMayor = r\n",
    "                columnaMayor = t\n",
    "    if mayor == 0:\n",
    "        print(\"The system doesnt have a unique solution\")\n",
    "    elif filaMayor != k:\n",
    "        s = intercambioFila(s,filaMayor,k)\n",
    "    elif columnaMayor != k:\n",
    "        s = intercambioColumna(s,columnaMayor,k)\n",
    "        marcas = intercambioColumna(marcas,columnaMayor,k)\n",
    "    s = s[:,:-1]\n",
    "    print(\"The system is: \", marcas)\n",
    "    return s\n",
    "import numpy as np\n",
    "#import matplotlib.pyplot as plt\n",
    "\n",
    "def coef(x, y):\n",
    "    x#.astype(float)\n",
    "    y#.astype(float)\n",
    "    n = len(x)\n",
    "    a = []\n",
    "    for i in range(n):\n",
    "        a.append(y[i])\n",
    "\n",
    "    for j in range(1, n):\n",
    "\n",
    "        for i in range(n-1, j-1, -1):\n",
    "            a[i] = (a[i]-a[i-1])/(x[i]-x[i-j])\n",
    "\n",
    "    return np.array(a) # return an array of coefficient\n",
    "\n",
    "def Eval(a, x, r):\n",
    "    x#.astype(float)\n",
    "    n = len( a ) - 1\n",
    "    temp = a[n] + (r - x[n])\n",
    "    for i in range( n - 1, -1, -1 ):\n",
    "        temp = temp * ( r - x[i] ) + a[i]\n",
    "    return temp # return the y_value interpolation"
   ]
  },
  {
   "cell_type": "markdown",
   "metadata": {},
   "source": [
    "## Format Data\n",
    "\n",
    "In order to process the data, we will format the pixels of each image as a numeric array"
   ]
  },
  {
   "cell_type": "code",
   "execution_count": 9,
   "metadata": {},
   "outputs": [],
   "source": [
    "from PIL import Image\n",
    "import pandas as pd\n",
    "import numpy  as np\n",
    "from scipy.interpolate import CubicSpline\n",
    "import matplotlib.pyplot as plt\n",
    "\n",
    "def get_colors(image):\n",
    "    img = Image.open(image,'r')\n",
    "    pix_val_r = list(img.getdata(0))\n",
    "    pix_val_g = list(img.getdata(1))\n",
    "    pix_val_b = list(img.getdata(2))\n",
    "    df = pd.DataFrame(pix_val_r, columns =['r'])\n",
    "    df.insert(1, value = pix_val_g, column = 'g')\n",
    "    df.insert(2, value = pix_val_b, column = 'b')\n",
    "    return df"
   ]
  },
  {
   "cell_type": "markdown",
   "metadata": {},
   "source": [
    "### Getting images\n",
    "\n",
    "We are currently using the dataset provided by The 2017 DAVIS Challenge (1). In this case, we will take two images from a video in order to interpolate them and compare the behaviour of the provided pixels. First, we get the images and formt them using the following functions. The result is a dataframe with RGB parameters for each pixel"
   ]
  },
  {
   "cell_type": "code",
   "execution_count": 10,
   "metadata": {},
   "outputs": [],
   "source": [
    "img1 = 'DAVIS-2017-trainval-480p\\\\DAVIS\\\\JPEGImages\\\\480p\\\\bear\\\\00000.jpg'\n",
    "img2 = 'DAVIS-2017-trainval-480p\\\\DAVIS\\\\JPEGImages\\\\480p\\\\bear\\\\00001.jpg'\n",
    "img3 = 'DAVIS-2017-trainval-480p\\\\DAVIS\\\\JPEGImages\\\\480p\\\\bear\\\\00002.jpg'\n",
    "img4 = 'DAVIS-2017-trainval-480p\\\\DAVIS\\\\JPEGImages\\\\480p\\\\bear\\\\00003.jpg'\n",
    "\n",
    "df_img1 = get_colors(img1)\n",
    "df_img2 = get_colors(img2)\n",
    "df_img3 = get_colors(img3)\n",
    "df_img4 = get_colors(img4)"
   ]
  },
  {
   "cell_type": "markdown",
   "metadata": {},
   "source": [
    "#### Obtaining RGB dataframes\n",
    "\n",
    "We will be suing this method with each of the color parameters of the pixels in the image to test"
   ]
  },
  {
   "cell_type": "code",
   "execution_count": 14,
   "metadata": {},
   "outputs": [],
   "source": [
    "list_red_1 = df_img1['r']\n",
    "list_red_2 = df_img2['r']\n",
    "list_red_3 = df_img3['r']\n",
    "list_red_4 = df_img4['r']\n",
    "\n",
    "list_green_1 = df_img1['g']\n",
    "list_green_2 = df_img2['g']\n",
    "list_green_3 = df_img3['g']\n",
    "list_green_4 = df_img4['g']\n",
    "\n",
    "list_blue_1 = df_img1['b']\n",
    "list_blue_2 = df_img2['b']\n",
    "list_blue_3 = df_img3['b']\n",
    "list_blue_4 = df_img4['b']\n",
    "\n",
    "frames = '1 2 3 4'"
   ]
  },
  {
   "cell_type": "markdown",
   "metadata": {},
   "source": [
    "## Data interpolation\n",
    "\n",
    "using the dataset we selected three images from a video and got the numeric values for the colors of each pixel. In this case we will implemente multiple interpolation methods between image1 and image3"
   ]
  },
  {
   "cell_type": "markdown",
   "metadata": {},
   "source": [
    "### DiffNewton"
   ]
  },
  {
   "cell_type": "code",
   "execution_count": 11,
   "metadata": {
    "scrolled": true
   },
   "outputs": [],
   "source": [
    "import numpy as np\n",
    "#from funciones import *\n",
    "#strx = str(raw_input(\"Please enter the vector of x: \"))\n",
    "#strfx = str(raw_input(\"Please enter the vector of Fx: \"))\n",
    "#strval = str(raw_input(\"Please enter the value to interpolate\"))\n",
    "def NewtonDiff(strx, strfx, strval):\n",
    "#strx = '2 2.2 2.4 2.6 2.8'\n",
    "    x = np.fromstring(strx, dtype=float, sep=' ')\n",
    "#strfx = '-4.6109 -4.1749 -3.3768 -2.1362 -0.3553'\n",
    "    fx = np.fromstring(strfx, dtype=float, sep=' ')\n",
    "    #strval = '2.5'\n",
    "    val = float(strval)\n",
    "    n = len(x)\n",
    "    a = []\n",
    "    for i in range(n):\n",
    "        a.append(fx[i])\n",
    "    for j in range(1, n):\n",
    "        for i in range(n-1, j-1, -1):\n",
    "            a[i] = (a[i]-a[i-1])/(x[i]-x[i-j])\n",
    "    a = np.array(a)\n",
    "    n = len( a ) - 1\n",
    "    temp = a[n] + (val - x[n])\n",
    "    for i in range( n - 1, -1, -1 ):\n",
    "        temp = temp * ( val - x[i] ) + a[i]\n",
    "    result = temp\n",
    "    return result"
   ]
  },
  {
   "cell_type": "markdown",
   "metadata": {},
   "source": [
    "### B Cubic Splines"
   ]
  },
  {
   "cell_type": "code",
   "execution_count": 12,
   "metadata": {},
   "outputs": [],
   "source": [
    "import numpy as np\n",
    "from scipy import interpolate\n",
    "from scipy.interpolate import CubicSpline\n",
    "def BCubicSplines(strx, strfx, strval):\n",
    "# Obtaining the data for the method\n",
    "    x_points = np.fromstring(strx, dtype=float, sep=' ')\n",
    "    y_points = np.fromstring(strfx, dtype=float, sep=' ')\n",
    "    val = float(strval)\n",
    "\n",
    "    #Method B Cubic Spline\n",
    "    tck = interpolate.splrep(x_points, y_points)\n",
    "    a = interpolate.splev(val, tck)\n",
    "    return a"
   ]
  },
  {
   "cell_type": "markdown",
   "metadata": {},
   "source": [
    "### Cubic Splines"
   ]
  },
  {
   "cell_type": "code",
   "execution_count": 13,
   "metadata": {},
   "outputs": [],
   "source": [
    "import numpy as np\n",
    "from scipy import interpolate\n",
    "from scipy.interpolate import CubicSpline\n",
    "def CubicSplines(strx, strfx, strval):\n",
    "# Obtaining the data for the method\n",
    "    x_points = np.fromstring(strx, dtype=float, sep=' ')\n",
    "    y_points = np.fromstring(strfx, dtype=float, sep=' ')\n",
    "    val = float(strval)\n",
    "    \n",
    "    #Method Cubic Spline\n",
    "    cs = CubicSpline(x_points,y_points,bc_type='natural')\n",
    "    return cs(val)"
   ]
  },
  {
   "cell_type": "markdown",
   "metadata": {},
   "source": [
    "### Using Newton"
   ]
  },
  {
   "cell_type": "code",
   "execution_count": 15,
   "metadata": {
    "scrolled": true
   },
   "outputs": [
    {
     "data": {
      "text/html": [
       "<div>\n",
       "<table border=\"1\" class=\"dataframe\">\n",
       "  <thead>\n",
       "    <tr style=\"text-align: right;\">\n",
       "      <th></th>\n",
       "      <th>r</th>\n",
       "      <th>g</th>\n",
       "      <th>b</th>\n",
       "    </tr>\n",
       "  </thead>\n",
       "  <tbody>\n",
       "    <tr>\n",
       "      <th>0</th>\n",
       "      <td>43.8125</td>\n",
       "      <td>38.8125</td>\n",
       "      <td>35.7500</td>\n",
       "    </tr>\n",
       "    <tr>\n",
       "      <th>1</th>\n",
       "      <td>41.6875</td>\n",
       "      <td>36.6875</td>\n",
       "      <td>33.6250</td>\n",
       "    </tr>\n",
       "    <tr>\n",
       "      <th>2</th>\n",
       "      <td>39.1875</td>\n",
       "      <td>34.1250</td>\n",
       "      <td>30.9375</td>\n",
       "    </tr>\n",
       "    <tr>\n",
       "      <th>3</th>\n",
       "      <td>46.8125</td>\n",
       "      <td>41.5625</td>\n",
       "      <td>38.3750</td>\n",
       "    </tr>\n",
       "    <tr>\n",
       "      <th>4</th>\n",
       "      <td>49.0000</td>\n",
       "      <td>44.8125</td>\n",
       "      <td>41.5625</td>\n",
       "    </tr>\n",
       "  </tbody>\n",
       "</table>\n",
       "</div>"
      ],
      "text/plain": [
       "         r        g        b\n",
       "0  43.8125  38.8125  35.7500\n",
       "1  41.6875  36.6875  33.6250\n",
       "2  39.1875  34.1250  30.9375\n",
       "3  46.8125  41.5625  38.3750\n",
       "4  49.0000  44.8125  41.5625"
      ]
     },
     "execution_count": 15,
     "metadata": {},
     "output_type": "execute_result"
    }
   ],
   "source": [
    "i = 0\n",
    "size = df_img1.shape[0] ## all frames have the same size\n",
    "red_interpolation = []\n",
    "green_interpolation = []\n",
    "blue_interpolation = []\n",
    "\n",
    "while(i < size):\n",
    "    red_row = str(list_red_1[i]) + ' ' + str(list_red_2[i]) + ' ' + str(list_red_3[i]) + ' ' + str(list_red_4[i])\n",
    "    red_interpolation.append(NewtonDiff(frames, red_row, 2.5))\n",
    "    \n",
    "    green_row = str(list_green_1[i]) + ' ' + str(list_green_2[i]) + ' ' + str(list_green_3[i]) + ' ' + str(list_green_4[i])\n",
    "    green_interpolation.append(NewtonDiff(frames, green_row, 2.5))\n",
    "    \n",
    "    blue_row = str(list_blue_1[i]) + ' ' + str(list_blue_2[i]) + ' ' + str(list_blue_3[i]) + ' ' + str(list_blue_4[i])\n",
    "    blue_interpolation.append(NewtonDiff(frames, blue_row, 2.5))\n",
    "    i+= 1\n",
    "df_interpolation = pd.DataFrame(red_interpolation, columns =['r'])\n",
    "df_interpolation['g'] = green_interpolation\n",
    "df_interpolation['b'] = blue_interpolation\n",
    "df_interpolation.head()"
   ]
  },
  {
   "cell_type": "markdown",
   "metadata": {},
   "source": [
    "### Cubic  B-Splines"
   ]
  },
  {
   "cell_type": "code",
   "execution_count": 16,
   "metadata": {
    "scrolled": true
   },
   "outputs": [
    {
     "data": {
      "text/html": [
       "<div>\n",
       "<table border=\"1\" class=\"dataframe\">\n",
       "  <thead>\n",
       "    <tr style=\"text-align: right;\">\n",
       "      <th></th>\n",
       "      <th>r</th>\n",
       "      <th>g</th>\n",
       "      <th>b</th>\n",
       "    </tr>\n",
       "  </thead>\n",
       "  <tbody>\n",
       "    <tr>\n",
       "      <th>0</th>\n",
       "      <td>43.2500</td>\n",
       "      <td>38.25000000000001</td>\n",
       "      <td>35.1875</td>\n",
       "    </tr>\n",
       "    <tr>\n",
       "      <th>1</th>\n",
       "      <td>41.1250</td>\n",
       "      <td>36.125</td>\n",
       "      <td>33.0625</td>\n",
       "    </tr>\n",
       "    <tr>\n",
       "      <th>2</th>\n",
       "      <td>38.6250</td>\n",
       "      <td>33.5625</td>\n",
       "      <td>30.375</td>\n",
       "    </tr>\n",
       "    <tr>\n",
       "      <th>3</th>\n",
       "      <td>46.2500</td>\n",
       "      <td>41.0</td>\n",
       "      <td>37.8125</td>\n",
       "    </tr>\n",
       "    <tr>\n",
       "      <th>4</th>\n",
       "      <td>48.4375</td>\n",
       "      <td>44.25</td>\n",
       "      <td>41.00000000000001</td>\n",
       "    </tr>\n",
       "  </tbody>\n",
       "</table>\n",
       "</div>"
      ],
      "text/plain": [
       "         r                  g                  b\n",
       "0  43.2500  38.25000000000001            35.1875\n",
       "1  41.1250             36.125            33.0625\n",
       "2  38.6250            33.5625             30.375\n",
       "3  46.2500               41.0            37.8125\n",
       "4  48.4375              44.25  41.00000000000001"
      ]
     },
     "execution_count": 16,
     "metadata": {},
     "output_type": "execute_result"
    }
   ],
   "source": [
    "i = 0\n",
    "size = df_img1.shape[0] ## all frames have the same size\n",
    "red_interpolation = []\n",
    "green_interpolation = []\n",
    "blue_interpolation = []\n",
    "\n",
    "while(i < size):\n",
    "    red_row = str(list_red_1[i]) + ' ' + str(list_red_2[i]) + ' ' + str(list_red_3[i]) + ' ' + str(list_red_4[i])\n",
    "    red_interpolation.append(BCubicSplines(frames, red_row, 2.5))\n",
    "    \n",
    "    green_row = str(list_green_1[i]) + ' ' + str(list_green_2[i]) + ' ' + str(list_green_3[i]) + ' ' + str(list_green_4[i])\n",
    "    green_interpolation.append(BCubicSplines(frames, green_row, 2.5))\n",
    "    \n",
    "    blue_row = str(list_blue_1[i]) + ' ' + str(list_blue_2[i]) + ' ' + str(list_blue_3[i]) + ' ' + str(list_blue_4[i])\n",
    "    blue_interpolation.append(BCubicSplines(frames, blue_row, 2.5))\n",
    "    i+= 1\n",
    "df_interpolation = pd.DataFrame(red_interpolation, columns =['r'])\n",
    "df_interpolation['g'] = green_interpolation\n",
    "df_interpolation['b'] = blue_interpolation\n",
    "df_interpolation.head()"
   ]
  },
  {
   "cell_type": "markdown",
   "metadata": {},
   "source": [
    "### Cubic Splines"
   ]
  },
  {
   "cell_type": "code",
   "execution_count": 17,
   "metadata": {
    "scrolled": true
   },
   "outputs": [
    {
     "data": {
      "text/html": [
       "<div>\n",
       "<table border=\"1\" class=\"dataframe\">\n",
       "  <thead>\n",
       "    <tr style=\"text-align: right;\">\n",
       "      <th></th>\n",
       "      <th>r</th>\n",
       "      <th>g</th>\n",
       "      <th>b</th>\n",
       "    </tr>\n",
       "  </thead>\n",
       "  <tbody>\n",
       "    <tr>\n",
       "      <th>0</th>\n",
       "      <td>43.100</td>\n",
       "      <td>38.199999999999996</td>\n",
       "      <td>35.225</td>\n",
       "    </tr>\n",
       "    <tr>\n",
       "      <th>1</th>\n",
       "      <td>40.750</td>\n",
       "      <td>35.85</td>\n",
       "      <td>32.875</td>\n",
       "    </tr>\n",
       "    <tr>\n",
       "      <th>2</th>\n",
       "      <td>38.150</td>\n",
       "      <td>33.175000000000004</td>\n",
       "      <td>30.049999999999997</td>\n",
       "    </tr>\n",
       "    <tr>\n",
       "      <th>3</th>\n",
       "      <td>46.000</td>\n",
       "      <td>40.8</td>\n",
       "      <td>37.675000000000004</td>\n",
       "    </tr>\n",
       "    <tr>\n",
       "      <th>4</th>\n",
       "      <td>48.225</td>\n",
       "      <td>44.1</td>\n",
       "      <td>40.9</td>\n",
       "    </tr>\n",
       "  </tbody>\n",
       "</table>\n",
       "</div>"
      ],
      "text/plain": [
       "        r                   g                   b\n",
       "0  43.100  38.199999999999996              35.225\n",
       "1  40.750               35.85              32.875\n",
       "2  38.150  33.175000000000004  30.049999999999997\n",
       "3  46.000                40.8  37.675000000000004\n",
       "4  48.225                44.1                40.9"
      ]
     },
     "execution_count": 17,
     "metadata": {},
     "output_type": "execute_result"
    }
   ],
   "source": [
    "i = 0\n",
    "size = df_img1.shape[0] ## all frames have the same size\n",
    "red_interpolation = []\n",
    "green_interpolation = []\n",
    "blue_interpolation = []\n",
    "\n",
    "while(i < size):\n",
    "    red_row = str(list_red_1[i]) + ' ' + str(list_red_2[i]) + ' ' + str(list_red_3[i]) + ' ' + str(list_red_4[i])\n",
    "    red_interpolation.append(CubicSplines(frames, red_row, 2.5))\n",
    "    \n",
    "    green_row = str(list_green_1[i]) + ' ' + str(list_green_2[i]) + ' ' + str(list_green_3[i]) + ' ' + str(list_green_4[i])\n",
    "    green_interpolation.append(CubicSplines(frames, green_row, 2.5))\n",
    "    \n",
    "    blue_row = str(list_blue_1[i]) + ' ' + str(list_blue_2[i]) + ' ' + str(list_blue_3[i]) + ' ' + str(list_blue_4[i])\n",
    "    blue_interpolation.append(CubicSplines(frames, blue_row, 2.5))\n",
    "    i+= 1\n",
    "df_interpolation = pd.DataFrame(red_interpolation, columns =['r'])\n",
    "df_interpolation['g'] = green_interpolation\n",
    "df_interpolation['b'] = blue_interpolation\n",
    "df_interpolation.head()"
   ]
  },
  {
   "cell_type": "markdown",
   "metadata": {},
   "source": [
    "#  Printing the Interpolated Frame\n",
    "Now that we have the result in a dataframe we can convert it into a matrix and then from the matrix format we can turn it into a jpg using PIL"
   ]
  },
  {
   "cell_type": "code",
   "execution_count": null,
   "metadata": {},
   "outputs": [],
   "source": [
    "# Size in pixels of the image (resolution)\n",
    "size_row = 480\n",
    "size_col = 854\n",
    "interpolated_matrix = np.ndarray((size_row, size_col, 3),dtype=np.uint8)\n",
    "i = 0\n",
    "j = 0\n",
    "pos = 0\n",
    "while i < size_row:\n",
    "    while j < size_col:\n",
    "        interpolated_matrix[i][j][0] = df_interpolation['r'][pos]\n",
    "        interpolated_matrix[i][j][1] = df_interpolation['g'][pos]\n",
    "        interpolated_matrix[i][j][2] = df_interpolation['b'][pos]\n",
    "        pos += 1\n",
    "        j += 1\n",
    "    i += 1\n",
    "    j = 0\n",
    "#interpolated_matrix\n",
    "#img_result = Image.fromarray(interpolated_matrix, 'RGB')\n",
    "#img_result.show()"
   ]
  },
  {
   "cell_type": "code",
   "execution_count": null,
   "metadata": {},
   "outputs": [],
   "source": [
    "#test_matrix\n",
    "img_result = Image.fromarray(interpolated_matrix, 'RGB')\n",
    "#img_result.save('name.jpg') #the name of the file to save\n",
    "#img_result.show()"
   ]
  }
 ],
 "metadata": {
  "kernelspec": {
   "display_name": "Python 3",
   "language": "python",
   "name": "python3"
  },
  "language_info": {
   "codemirror_mode": {
    "name": "ipython",
    "version": 3
   },
   "file_extension": ".py",
   "mimetype": "text/x-python",
   "name": "python",
   "nbconvert_exporter": "python",
   "pygments_lexer": "ipython3",
   "version": "3.5.2"
  }
 },
 "nbformat": 4,
 "nbformat_minor": 2
}
