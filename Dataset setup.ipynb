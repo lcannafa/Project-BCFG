{
 "cells": [
  {
   "cell_type": "markdown",
   "metadata": {},
   "source": [
    "# Interpolation Using images in video\n",
    "\n",
    "In this notebook we will attempt to analyze an image and recreate it by using newton interpolation and Cubic Splines"
   ]
  },
  {
   "cell_type": "markdown",
   "metadata": {},
   "source": [
    "# Funciones Basicas"
   ]
  },
  {
   "cell_type": "code",
   "execution_count": 1,
   "metadata": {},
   "outputs": [],
   "source": [
    "import math as m\n",
    "import numpy as np\n",
    "from sympy import *\n",
    "\n",
    "def f(f):\n",
    "    x = Symbol(\"x\")\n",
    "    e = m.e\n",
    "    pi = m.pi\n",
    "    f = eval(f)\n",
    "    return f\n",
    "def g(g):\n",
    "    x = Symbol(\"x\")\n",
    "    e = m.e\n",
    "    pi = m.pi\n",
    "    g = eval(g)\n",
    "    return g\n",
    "def f1(f):\n",
    "    x = Symbol(\"x\")\n",
    "    e = m.e\n",
    "    pi = m.pi\n",
    "    f1 = diff(f)\n",
    "    return f1\n",
    "def f2(f1):\n",
    "    x = Symbol(\"x\")\n",
    "    e = m.e\n",
    "    pi = m.pi\n",
    "    f2 = diff(f1)\n",
    "    return f2\n",
    "def evalfunct(f,y):\n",
    "    x = Symbol(\"x\")\n",
    "    e = m.e\n",
    "    pi = m.pi\n",
    "    evalf = f.subs(x,y)\n",
    "    return evalf\n",
    "def regresiva(a,b):\n",
    "    n = len(b)\n",
    "    x = [0 for i in range(n)]\n",
    "    x[n-1] = b[n-1,0]/a[n-1,n-1]\n",
    "    for i in reversed(range(0,n-1)):\n",
    "        suma = 0\n",
    "        for j in range((i+1),n):\n",
    "            suma = suma + a[i,j]*x[j]\n",
    "        x[i] = (b[i,0] - suma)/a[i,i]\n",
    "    return x\n",
    "def progresiva(a,b):\n",
    "    n = len(b)\n",
    "    x = [0 for i in range(n)]\n",
    "    x[0] = b[0,0]/a[0,0]\n",
    "    for i in range(1,n):\n",
    "        suma = 0\n",
    "        for j in range(0,(i-1)):\n",
    "            suma = suma + a[i,j]*x[j]\n",
    "        x[i] = (b[i,0] - suma)/a[i,i]\n",
    "    return x\n",
    "def intercambioFila(a,fi1,fi2):\n",
    "    f = np.copy(a)\n",
    "    f[fi1,:] = a[fi2,:]\n",
    "    f[fi2,:] = a[fi1,:]\n",
    "    return f\n",
    "def intercambioColumna(a,c1,c2):\n",
    "    f = np.copy(a)\n",
    "    f[:,[c1]] = a[:,[c2]]\n",
    "    f[:,[c2]] = a[:,[c1]]\n",
    "    return f\n",
    "\n",
    "def pivoteoParcial(a,b,k):\n",
    "    s = np.hstack(((a,b)))\n",
    "    n = len(s) - 1\n",
    "    mayor = abs(k)\n",
    "    filaMayor = k\n",
    "    for t in range(k,n):\n",
    "        if abs(s[t,k]) > mayor:\n",
    "            mayor = abs(s[t,k])\n",
    "            filaMayor = t\n",
    "    if mayor == 0:\n",
    "        print(\"The system doesnt have a unique solution\")\n",
    "    elif filaMayor != k :\n",
    "        s = intercambioFila(s,filaMayor,k)\n",
    "    s = s[:,:-1]\n",
    "    return s\n",
    "def pivoteoTotal(a,b,k):\n",
    "    s = np.hstack(((a,b)))\n",
    "    n = len(a) - 1\n",
    "    marcas = np.matrix('1 2 3 4')\n",
    "    mayor = 0\n",
    "    filaMayor = k\n",
    "    columnaMayor = k\n",
    "    for r in range (k,n):\n",
    "        for t in range (k,n):\n",
    "            if(abs(s[r,t]) > mayor):\n",
    "                mayor = abs(s[r,t])\n",
    "                filaMayor = r\n",
    "                columnaMayor = t\n",
    "    if mayor == 0:\n",
    "        print(\"The system doesnt have a unique solution\")\n",
    "    elif filaMayor != k:\n",
    "        s = intercambioFila(s,filaMayor,k)\n",
    "    elif columnaMayor != k:\n",
    "        s = intercambioColumna(s,columnaMayor,k)\n",
    "        marcas = intercambioColumna(marcas,columnaMayor,k)\n",
    "    s = s[:,:-1]\n",
    "    print(\"The system is: \", marcas)\n",
    "    return s\n",
    "import numpy as np\n",
    "#import matplotlib.pyplot as plt\n",
    "\n",
    "def coef(x, y):\n",
    "    x#.astype(float)\n",
    "    y#.astype(float)\n",
    "    n = len(x)\n",
    "    a = []\n",
    "    for i in range(n):\n",
    "        a.append(y[i])\n",
    "\n",
    "    for j in range(1, n):\n",
    "\n",
    "        for i in range(n-1, j-1, -1):\n",
    "            a[i] = (a[i]-a[i-1])/(x[i]-x[i-j])\n",
    "\n",
    "    return np.array(a) # return an array of coefficient\n",
    "\n",
    "def Eval(a, x, r):\n",
    "    x#.astype(float)\n",
    "    n = len( a ) - 1\n",
    "    temp = a[n] + (r - x[n])\n",
    "    for i in range( n - 1, -1, -1 ):\n",
    "        temp = temp * ( r - x[i] ) + a[i]\n",
    "    return temp # return the y_value interpolation"
   ]
  },
  {
   "cell_type": "markdown",
   "metadata": {},
   "source": [
    "## Format Data\n",
    "\n",
    "In order to process the data, we will format the pixels of each image as a numeric array"
   ]
  },
  {
   "cell_type": "code",
   "execution_count": 2,
   "metadata": {},
   "outputs": [],
   "source": [
    "from PIL import Image\n",
    "import pandas as pd\n",
    "import numpy  as np\n",
    "from scipy.interpolate import CubicSpline\n",
    "import matplotlib.pyplot as plt\n",
    "\n",
    "def get_colors(image):\n",
    "    img = Image.open(image,'r')\n",
    "    pix_val_r = list(img.getdata(0))\n",
    "    pix_val_g = list(img.getdata(1))\n",
    "    pix_val_b = list(img.getdata(2))\n",
    "    df = pd.DataFrame(pix_val_r, columns =['r'])\n",
    "    df.insert(1, value = pix_val_g, column = 'g')\n",
    "    df.insert(2, value = pix_val_b, column = 'b')\n",
    "    return df"
   ]
  },
  {
   "cell_type": "markdown",
   "metadata": {},
   "source": [
    "### Getting images\n",
    "\n",
    "We are currently using the dataset provided by The 2017 DAVIS Challenge (1). In this case, we will take two images from a video in order to interpolate them and compare the behaviour of the provided pixels. First, we get the images and formt them using the following functions. The result is a dataframe with RGB parameters for each pixel"
   ]
  },
  {
   "cell_type": "code",
   "execution_count": 16,
   "metadata": {},
   "outputs": [
    {
     "data": {
      "text/plain": [
       "'DAVIS-2017-trainval-480p\\\\DAVIS\\\\JPEGImages\\\\480p\\\\bear\\\\00004.jpg'"
      ]
     },
     "execution_count": 16,
     "metadata": {},
     "output_type": "execute_result"
    }
   ],
   "source": [
    "h = 2\n",
    "initial = 0\n",
    "path = 'DAVIS-2017-trainval-480p\\\\DAVIS\\\\JPEGImages\\\\480p\\\\bear\\\\'\n",
    "img1 = path + '0000' + str(initial) + '.jpg'\n",
    "img2 = path + '0000' + str(h + initial) + '.jpg'\n",
    "img3 = path + '0000' + str(2*h + initial) + '.jpg'\n",
    "img4 = path + '0000' + str(3*h + initial) + '.jpg'\n",
    "\n",
    "#df_img1 = get_colors(img1)\n",
    "#df_img2 = get_colors(img2)\n",
    "#df_img3 = get_colors(img3)\n",
    "#df_img4 = get_colors(img4)\n",
    "img3"
   ]
  },
  {
   "cell_type": "markdown",
   "metadata": {},
   "source": [
    "#### Obtaining RGB dataframes\n",
    "\n",
    "We will be suing this method with each of the color parameters of the pixels in the image to test"
   ]
  },
  {
   "cell_type": "code",
   "execution_count": 3,
   "metadata": {},
   "outputs": [],
   "source": [
    "def automatonNias(h,start,end,step,imPath):\n",
    "    #h = 1\n",
    "    #start = 0\n",
    "    #end = 8\n",
    "    #step = 2\n",
    "    #imPath = 'DAVIS-2017-trainval-480p\\\\DAVIS\\\\JPEGImages\\\\480p\\\\bear\\\\00001.jpg'\n",
    "    # 'DAVIS-2017-trainval-480p\\\\DAVIS\\\\JPEGImages\\\\480p\\\\blackswan\\\\00000.jpg'\n",
    "    d=[]\n",
    "    acum = 0\n",
    "    list_God = []\n",
    "    list_Red = []\n",
    "    list_Green = []\n",
    "    list_Blue = []\n",
    "    frames = []\n",
    "    frstr = \"\"\n",
    "    for i in range(start,end,step):\n",
    "        gaga = h*i\n",
    "        ga = str(h*i).zfill(5)+\".jpg\"\n",
    "        img2 = imPath\n",
    "        path = img2[:-9]\n",
    "        d.append(path+ga)\n",
    "        frames.append(gaga)\n",
    "        frstr = frstr + str(frames[acum]) + \" \"\n",
    "        acum += 1\n",
    "    #Removiendo el espacio final\n",
    "    frstr = frstr[:-1]\n",
    "    for k in range(0,acum):\n",
    "        #print(d[k])\n",
    "        list_God.append(get_colors(d[k]))\n",
    "        list_Red.append(list_God[k]['r'])\n",
    "        list_Green.append(list_God[k]['g'])\n",
    "        list_Blue.append(list_God[k]['b'])\n",
    "    return list_God, list_Red, list_Green, list_Blue, frames, frstr"
   ]
  },
  {
   "cell_type": "code",
   "execution_count": 87,
   "metadata": {},
   "outputs": [
    {
     "name": "stdout",
     "output_type": "stream",
     "text": [
      "[0, 2, 4, 6]\n",
      "0 2 4 6\n"
     ]
    }
   ],
   "source": []
  },
  {
   "cell_type": "code",
   "execution_count": null,
   "metadata": {},
   "outputs": [],
   "source": []
  },
  {
   "cell_type": "code",
   "execution_count": 118,
   "metadata": {},
   "outputs": [],
   "source": [
    "list_red_1 = df_img1['r']\n",
    "list_red_2 = df_img2['r']\n",
    "list_red_3 = df_img3['r']\n",
    "list_red_4 = df_img4['r']\n",
    "\n",
    "list_green_1 = df_img1['g']\n",
    "list_green_2 = df_img2['g']\n",
    "list_green_3 = df_img3['g']\n",
    "list_green_4 = df_img4['g']\n",
    "\n",
    "list_blue_1 = df_img1['b']\n",
    "list_blue_2 = df_img2['b']\n",
    "list_blue_3 = df_img3['b']\n",
    "list_blue_4 = df_img4['b']\n",
    "\n",
    "frames = '1 2 3 4'"
   ]
  },
  {
   "cell_type": "markdown",
   "metadata": {},
   "source": [
    "## Data interpolation\n",
    "\n",
    "using the dataset we selected three images from a video and got the numeric values for the colors of each pixel. In this case we will implemente multiple interpolation methods between image1 and image3"
   ]
  },
  {
   "cell_type": "markdown",
   "metadata": {},
   "source": [
    "### DiffNewton"
   ]
  },
  {
   "cell_type": "code",
   "execution_count": 4,
   "metadata": {
    "scrolled": true
   },
   "outputs": [],
   "source": [
    "import numpy as np\n",
    "#from funciones import *\n",
    "#strx = str(raw_input(\"Please enter the vector of x: \"))\n",
    "#strfx = str(raw_input(\"Please enter the vector of Fx: \"))\n",
    "#strval = str(raw_input(\"Please enter the value to interpolate\"))\n",
    "def NewtonDiff(strx, strfx, strval):\n",
    "#strx = '2 2.2 2.4 2.6 2.8'\n",
    "    x = np.fromstring(strx, dtype=float, sep=' ')\n",
    "#strfx = '-4.6109 -4.1749 -3.3768 -2.1362 -0.3553'\n",
    "    fx = np.fromstring(strfx, dtype=float, sep=' ')\n",
    "    #strval = '2.5'\n",
    "    val = float(strval)\n",
    "    n = len(x)\n",
    "    a = []\n",
    "    for i in range(n):\n",
    "        a.append(fx[i])\n",
    "    for j in range(1, n):\n",
    "        for i in range(n-1, j-1, -1):\n",
    "            a[i] = (a[i]-a[i-1])/(x[i]-x[i-j])\n",
    "    a = np.array(a)\n",
    "    n = len( a ) - 1\n",
    "    temp = a[n] + (val - x[n])\n",
    "    for i in range( n - 1, -1, -1 ):\n",
    "        temp = temp * ( val - x[i] ) + a[i]\n",
    "    result = temp\n",
    "    return result"
   ]
  },
  {
   "cell_type": "markdown",
   "metadata": {},
   "source": [
    "### B Cubic Splines"
   ]
  },
  {
   "cell_type": "code",
   "execution_count": 5,
   "metadata": {},
   "outputs": [],
   "source": [
    "import numpy as np\n",
    "from scipy import interpolate\n",
    "from scipy.interpolate import CubicSpline\n",
    "def BCubicSplines(strx, strfx, strval):\n",
    "# Obtaining the data for the method\n",
    "    x_points = np.fromstring(strx, dtype=float, sep=' ')\n",
    "    y_points = np.fromstring(strfx, dtype=float, sep=' ')\n",
    "    val = float(strval)\n",
    "\n",
    "    #Method B Cubic Spline\n",
    "    tck = interpolate.splrep(x_points, y_points)\n",
    "    a = interpolate.splev(val, tck)\n",
    "    return a"
   ]
  },
  {
   "cell_type": "markdown",
   "metadata": {},
   "source": [
    "### Cubic Splines"
   ]
  },
  {
   "cell_type": "code",
   "execution_count": 6,
   "metadata": {},
   "outputs": [],
   "source": [
    "import numpy as np\n",
    "from scipy import interpolate\n",
    "from scipy.interpolate import CubicSpline\n",
    "def CubicSplines(strx, strfx, strval):\n",
    "# Obtaining the data for the method\n",
    "    x_points = np.fromstring(strx, dtype=float, sep=' ')\n",
    "    y_points = np.fromstring(strfx, dtype=float, sep=' ')\n",
    "    val = float(strval)\n",
    "    \n",
    "    #Method Cubic Spline\n",
    "    cs = CubicSpline(x_points,y_points,bc_type='natural')\n",
    "    return cs(val)"
   ]
  },
  {
   "cell_type": "markdown",
   "metadata": {},
   "source": [
    "### Using Newton"
   ]
  },
  {
   "cell_type": "code",
   "execution_count": 7,
   "metadata": {
    "scrolled": true
   },
   "outputs": [
    {
     "data": {
      "text/html": [
       "<div>\n",
       "<table border=\"1\" class=\"dataframe\">\n",
       "  <thead>\n",
       "    <tr style=\"text-align: right;\">\n",
       "      <th></th>\n",
       "      <th>r</th>\n",
       "      <th>g</th>\n",
       "      <th>b</th>\n",
       "    </tr>\n",
       "  </thead>\n",
       "  <tbody>\n",
       "    <tr>\n",
       "      <th>0</th>\n",
       "      <td>97.7500</td>\n",
       "      <td>115.8750</td>\n",
       "      <td>80.0625</td>\n",
       "    </tr>\n",
       "    <tr>\n",
       "      <th>1</th>\n",
       "      <td>120.0000</td>\n",
       "      <td>136.9375</td>\n",
       "      <td>101.1250</td>\n",
       "    </tr>\n",
       "    <tr>\n",
       "      <th>2</th>\n",
       "      <td>115.4375</td>\n",
       "      <td>132.3750</td>\n",
       "      <td>97.5625</td>\n",
       "    </tr>\n",
       "    <tr>\n",
       "      <th>3</th>\n",
       "      <td>89.6250</td>\n",
       "      <td>105.4375</td>\n",
       "      <td>69.5000</td>\n",
       "    </tr>\n",
       "    <tr>\n",
       "      <th>4</th>\n",
       "      <td>61.4375</td>\n",
       "      <td>77.3750</td>\n",
       "      <td>41.3750</td>\n",
       "    </tr>\n",
       "  </tbody>\n",
       "</table>\n",
       "</div>"
      ],
      "text/plain": [
       "          r         g         b\n",
       "0   97.7500  115.8750   80.0625\n",
       "1  120.0000  136.9375  101.1250\n",
       "2  115.4375  132.3750   97.5625\n",
       "3   89.6250  105.4375   69.5000\n",
       "4   61.4375   77.3750   41.3750"
      ]
     },
     "execution_count": 7,
     "metadata": {},
     "output_type": "execute_result"
    }
   ],
   "source": [
    "#size = df_img1.shape[0] ## all frames have the same size\n",
    "frame_to_interpolate = 3\n",
    "framesAndStuff = automatonNias(1,0,8,2,'DAVIS-2017-trainval-480p\\\\DAVIS\\\\JPEGImages\\\\480p\\\\blackswan\\\\00000.jpg')\n",
    "list_God = framesAndStuff[0]\n",
    "list_Red = framesAndStuff[1]\n",
    "list_Green = framesAndStuff[2]\n",
    "list_Blue = framesAndStuff[3]\n",
    "frames = framesAndStuff[4]\n",
    "frstr = framesAndStuff[5]\n",
    "size = len(list_God[0])\n",
    "sizef = len(frames)\n",
    "red_interpolation = []\n",
    "green_interpolation = []\n",
    "blue_interpolation = []\n",
    "red_row = \"\"\n",
    "blue_row = \"\"\n",
    "green_row = \"\"\n",
    "i = 0\n",
    "j = 0\n",
    "while i < size:\n",
    "    red_row = ''\n",
    "    green_row = ''\n",
    "    blue_row = ''\n",
    "    while j < sizef:\n",
    "        red_row = red_row + str(list_Red[j][i]) + \" \"\n",
    "        green_row = green_row + str(list_Green[j][i]) + \" \"\n",
    "        blue_row = blue_row + str(list_Blue[j][i]) + \" \"\n",
    "        j+=1\n",
    "    red_row = red_row[:-1]\n",
    "    green_row = green_row[:-1]\n",
    "    blue_row = blue_row[:-1]\n",
    "    red_interpolation.append(NewtonDiff(frstr, red_row, frame_to_interpolate))\n",
    "    green_interpolation.append(NewtonDiff(frstr, green_row, frame_to_interpolate))\n",
    "    blue_interpolation.append(NewtonDiff(frstr, blue_row, frame_to_interpolate))\n",
    "    i+=1\n",
    "    j = 0\n",
    "\n",
    "df_interpolation = pd.DataFrame(red_interpolation, columns =['r'])\n",
    "df_interpolation['g'] = green_interpolation\n",
    "df_interpolation['b'] = blue_interpolation\n",
    "df_interpolation.head()"
   ]
  },
  {
   "cell_type": "markdown",
   "metadata": {},
   "source": [
    "## Using B-Splines"
   ]
  },
  {
   "cell_type": "code",
   "execution_count": 10,
   "metadata": {},
   "outputs": [
    {
     "data": {
      "text/html": [
       "<div>\n",
       "<table border=\"1\" class=\"dataframe\">\n",
       "  <thead>\n",
       "    <tr style=\"text-align: right;\">\n",
       "      <th></th>\n",
       "      <th>r</th>\n",
       "      <th>g</th>\n",
       "      <th>b</th>\n",
       "    </tr>\n",
       "  </thead>\n",
       "  <tbody>\n",
       "    <tr>\n",
       "      <th>0</th>\n",
       "      <td>88.7500</td>\n",
       "      <td>106.87500000000003</td>\n",
       "      <td>71.0625</td>\n",
       "    </tr>\n",
       "    <tr>\n",
       "      <th>1</th>\n",
       "      <td>111.0000</td>\n",
       "      <td>127.93750000000001</td>\n",
       "      <td>92.12500000000003</td>\n",
       "    </tr>\n",
       "    <tr>\n",
       "      <th>2</th>\n",
       "      <td>106.4375</td>\n",
       "      <td>123.37500000000004</td>\n",
       "      <td>88.56250000000001</td>\n",
       "    </tr>\n",
       "    <tr>\n",
       "      <th>3</th>\n",
       "      <td>80.6250</td>\n",
       "      <td>96.43750000000001</td>\n",
       "      <td>60.50000000000003</td>\n",
       "    </tr>\n",
       "    <tr>\n",
       "      <th>4</th>\n",
       "      <td>52.4375</td>\n",
       "      <td>68.375</td>\n",
       "      <td>32.375</td>\n",
       "    </tr>\n",
       "  </tbody>\n",
       "</table>\n",
       "</div>"
      ],
      "text/plain": [
       "          r                   g                  b\n",
       "0   88.7500  106.87500000000003            71.0625\n",
       "1  111.0000  127.93750000000001  92.12500000000003\n",
       "2  106.4375  123.37500000000004  88.56250000000001\n",
       "3   80.6250   96.43750000000001  60.50000000000003\n",
       "4   52.4375              68.375             32.375"
      ]
     },
     "execution_count": 10,
     "metadata": {},
     "output_type": "execute_result"
    }
   ],
   "source": [
    "#size = df_img1.shape[0] ## all frames have the same size\n",
    "frame_to_interpolate = 3\n",
    "framesAndStuff = automatonNias(1,0,8,2,'DAVIS-2017-trainval-480p\\\\DAVIS\\\\JPEGImages\\\\480p\\\\blackswan\\\\00000.jpg')\n",
    "list_God = framesAndStuff[0]\n",
    "list_Red = framesAndStuff[1]\n",
    "list_Green = framesAndStuff[2]\n",
    "list_Blue = framesAndStuff[3]\n",
    "frames = framesAndStuff[4]\n",
    "frstr = framesAndStuff[5]\n",
    "size = len(list_God[0])\n",
    "sizef = len(frames)\n",
    "red_interpolation = []\n",
    "green_interpolation = []\n",
    "blue_interpolation = []\n",
    "red_row = \"\"\n",
    "blue_row = \"\"\n",
    "green_row = \"\"\n",
    "i = 0\n",
    "j = 0\n",
    "while i < size:\n",
    "    red_row = ''\n",
    "    green_row = ''\n",
    "    blue_row = ''\n",
    "    while j < sizef:\n",
    "        red_row = red_row + str(list_Red[j][i]) + \" \"\n",
    "        green_row = green_row + str(list_Green[j][i]) + \" \"\n",
    "        blue_row = blue_row + str(list_Blue[j][i]) + \" \"\n",
    "        j+=1\n",
    "    red_row = red_row[:-1]\n",
    "    green_row = green_row[:-1]\n",
    "    blue_row = blue_row[:-1]\n",
    "    red_interpolation.append(BCubicSplines(frstr, red_row, frame_to_interpolate))\n",
    "    green_interpolation.append(BCubicSplines(frstr, green_row, frame_to_interpolate))\n",
    "    blue_interpolation.append(BCubicSplines(frstr, blue_row, frame_to_interpolate))\n",
    "    i+=1\n",
    "    j = 0\n",
    "\n",
    "df_interpolation = pd.DataFrame(red_interpolation, columns =['r'])\n",
    "df_interpolation['g'] = green_interpolation\n",
    "df_interpolation['b'] = blue_interpolation\n",
    "df_interpolation.head()"
   ]
  },
  {
   "cell_type": "markdown",
   "metadata": {},
   "source": [
    "### Cubic Splines"
   ]
  },
  {
   "cell_type": "code",
   "execution_count": null,
   "metadata": {
    "scrolled": true
   },
   "outputs": [],
   "source": [
    "#size = df_img1.shape[0] ## all frames have the same size\n",
    "frame_to_interpolate = 3\n",
    "framesAndStuff = automatonNias(1,0,8,2,'DAVIS-2017-trainval-480p\\\\DAVIS\\\\JPEGImages\\\\480p\\\\blackswan\\\\00000.jpg')\n",
    "list_God = framesAndStuff[0]\n",
    "list_Red = framesAndStuff[1]\n",
    "list_Green = framesAndStuff[2]\n",
    "list_Blue = framesAndStuff[3]\n",
    "frames = framesAndStuff[4]\n",
    "frstr = framesAndStuff[5]\n",
    "size = len(list_God[0])\n",
    "sizef = len(frames)\n",
    "red_interpolation = []\n",
    "green_interpolation = []\n",
    "blue_interpolation = []\n",
    "red_row = \"\"\n",
    "blue_row = \"\"\n",
    "green_row = \"\"\n",
    "i = 0\n",
    "j = 0\n",
    "while i < size:\n",
    "    red_row = ''\n",
    "    green_row = ''\n",
    "    blue_row = ''\n",
    "    while j < sizef:\n",
    "        red_row = red_row + str(list_Red[j][i]) + \" \"\n",
    "        green_row = green_row + str(list_Green[j][i]) + \" \"\n",
    "        blue_row = blue_row + str(list_Blue[j][i]) + \" \"\n",
    "        j+=1\n",
    "    red_row = red_row[:-1]\n",
    "    green_row = green_row[:-1]\n",
    "    blue_row = blue_row[:-1]\n",
    "    red_interpolation.append(CubicSplines(frstr, red_row, frame_to_interpolate))\n",
    "    green_interpolation.append(CubicSplines(frstr, green_row, frame_to_interpolate))\n",
    "    blue_interpolation.append(CubicSplines(frstr, blue_row, frame_to_interpolate))\n",
    "    i+=1\n",
    "    j = 0\n",
    "\n",
    "df_interpolation = pd.DataFrame(red_interpolation, columns =['r'])\n",
    "df_interpolation['g'] = green_interpolation\n",
    "df_interpolation['b'] = blue_interpolation\n",
    "df_interpolation.head()"
   ]
  },
  {
   "cell_type": "markdown",
   "metadata": {},
   "source": [
    "#  Printing the Interpolated Frame\n",
    "Now that we have the result in a dataframe we can convert it into a matrix and then from the matrix format we can turn it into a jpg using PIL"
   ]
  },
  {
   "cell_type": "code",
   "execution_count": 11,
   "metadata": {},
   "outputs": [],
   "source": [
    "# Size in pixels of the image (resolution)\n",
    "size_row = 480\n",
    "size_col = 854\n",
    "interpolated_matrix = np.ndarray((size_row, size_col, 3),dtype=np.uint8)\n",
    "i = 0\n",
    "j = 0\n",
    "pos = 0\n",
    "while i < size_row:\n",
    "    while j < size_col:\n",
    "        interpolated_matrix[i][j][0] = df_interpolation['r'][pos]\n",
    "        interpolated_matrix[i][j][1] = df_interpolation['g'][pos]\n",
    "        interpolated_matrix[i][j][2] = df_interpolation['b'][pos]\n",
    "        pos += 1\n",
    "        j += 1\n",
    "    i += 1\n",
    "    j = 0\n",
    "#interpolated_matrix\n",
    "#img_result = Image.fromarray(interpolated_matrix, 'RGB')\n",
    "#img_result.show()"
   ]
  },
  {
   "cell_type": "code",
   "execution_count": 12,
   "metadata": {},
   "outputs": [],
   "source": [
    "#test_matrix\n",
    "img_result = Image.fromarray(interpolated_matrix, 'RGB')\n",
    "#img_result.save('name.jpg') #the name of the file to save\n",
    "img_result.show()"
   ]
  },
  {
   "cell_type": "code",
   "execution_count": null,
   "metadata": {},
   "outputs": [],
   "source": []
  }
 ],
 "metadata": {
  "kernelspec": {
   "display_name": "Python 3",
   "language": "python",
   "name": "python3"
  },
  "language_info": {
   "codemirror_mode": {
    "name": "ipython",
    "version": 3
   },
   "file_extension": ".py",
   "mimetype": "text/x-python",
   "name": "python",
   "nbconvert_exporter": "python",
   "pygments_lexer": "ipython3",
   "version": "3.5.2"
  }
 },
 "nbformat": 4,
 "nbformat_minor": 2
}
